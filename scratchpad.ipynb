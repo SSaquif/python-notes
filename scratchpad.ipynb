{
 "cells": [
  {
   "cell_type": "code",
   "execution_count": 6,
   "id": "c3a5bae7",
   "metadata": {},
   "outputs": [
    {
     "name": "stdout",
     "output_type": "stream",
     "text": [
      "Li\n"
     ]
    }
   ],
   "source": [
    "\n",
    "name =\"Lizz\"\n",
    "print(name[0:2])"
   ]
  },
  {
   "cell_type": "code",
   "execution_count": 11,
   "id": "8718a2d8",
   "metadata": {},
   "outputs": [
    {
     "name": "stdout",
     "output_type": "stream",
     "text": [
      "3\n",
      "3\n",
      "(1, 2, 3)\n",
      "hello\n"
     ]
    }
   ],
   "source": [
    "A=(0, 1, 2, 3)\n",
    "print(A[3])\n",
    "print(A[-1])\n",
    "print(A[1:])\n",
    "A=(0, (\"hello\", \"world\"), 2, 3)\n",
    "print(A[1][0])\n"
   ]
  },
  {
   "cell_type": "code",
   "execution_count": 1,
   "id": "9a16a3c3",
   "metadata": {},
   "outputs": [
    {
     "name": "stdout",
     "output_type": "stream",
     "text": [
      "1\n",
      "0\n"
     ]
    }
   ],
   "source": [
    "def Delta(x):\n",
    "    if x==0:\n",
    "        y=1;\n",
    "    else:\n",
    "        y=0;\n",
    "    return(y)\n",
    "\n",
    "print(Delta(0))\n",
    "print(Delta(1))"
   ]
  },
  {
   "cell_type": "code",
   "execution_count": 10,
   "id": "a415e73d",
   "metadata": {},
   "outputs": [
    {
     "name": "stdout",
     "output_type": "stream",
     "text": [
      "[4, 30, 2, 1]\n",
      "[1, 2, 4, 30]\n",
      "None\n"
     ]
    }
   ],
   "source": [
    "x=[4,30,2,1]\n",
    "print(x)\n",
    "y=x.sort()\n",
    "print(x)\n",
    "print(y)"
   ]
  },
  {
   "cell_type": "code",
   "execution_count": null,
   "id": "9040b430",
   "metadata": {},
   "outputs": [],
   "source": []
  }
 ],
 "metadata": {
  "kernelspec": {
   "display_name": "Python 3",
   "language": "python",
   "name": "python3"
  },
  "language_info": {
   "codemirror_mode": {
    "name": "ipython",
    "version": 3
   },
   "file_extension": ".py",
   "mimetype": "text/x-python",
   "name": "python",
   "nbconvert_exporter": "python",
   "pygments_lexer": "ipython3",
   "version": "3.10.12"
  }
 },
 "nbformat": 4,
 "nbformat_minor": 5
}
